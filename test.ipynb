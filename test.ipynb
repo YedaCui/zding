{
 "cells": [
  {
   "cell_type": "code",
   "execution_count": null,
   "metadata": {},
   "outputs": [
    {
     "data": {
      "text/plain": [
       "3"
      ]
     },
     "execution_count": 6,
     "metadata": {},
     "output_type": "execute_result"
    }
   ],
   "source": [
    "import importlib\n",
    "import os\n",
    "import sys\n",
    "import time\n",
    "\n",
    "import numpy as np\n",
    "from numpy import random as R\n",
    "\n",
    "\n",
    "def cost(x):\n",
    "    x = np.abs(x)\n",
    "    return np.where(x <= 1, 0.01, x) * x\n",
    "\n",
    "\n",
    "def obj(x1, x0, w):\n",
    "    return x1 @ w + cost(x1 - x0).sum() + (cost(x1.sum()) + cost(x1 @ np.sign(x0))) / 2\n",
    "\n",
    "\n",
    "def gen(n):\n",
    "    return R.normal(R.normal(0, 1), abs(R.normal(0, 1)), n), R.normal(0, 0.01, n)"
   ]
  },
  {
   "cell_type": "code",
   "execution_count": null,
   "metadata": {},
   "outputs": [],
   "source": []
  },
  {
   "cell_type": "code",
   "execution_count": null,
   "metadata": {},
   "outputs": [],
   "source": []
  },
  {
   "cell_type": "code",
   "execution_count": 8,
   "metadata": {},
   "outputs": [
    {
     "name": "stdout",
     "output_type": "stream",
     "text": [
      "[-1.53222601 -2.69877376 -5.11460483  5.92688097 -0.81255699  1.07104408\n",
      "  1.57946315 -1.15731081  0.09169339 -3.50239375]\n"
     ]
    },
    {
     "data": {
      "text/plain": [
       "array([0.01      , 0.01      , 0.01      , 5.92688097, 0.01      ,\n",
       "       1.07104408, 1.57946315, 0.01      , 0.01      , 0.01      ])"
      ]
     },
     "execution_count": 8,
     "metadata": {},
     "output_type": "execute_result"
    }
   ],
   "source": [
    "import numpy as np\n",
    "\n",
    "x = np.random.normal(0, 3, 10)\n",
    "print(x)\n",
    "np.where(x <= 1, 0.01, x)"
   ]
  },
  {
   "cell_type": "code",
   "execution_count": null,
   "metadata": {},
   "outputs": [],
   "source": []
  },
  {
   "cell_type": "code",
   "execution_count": null,
   "metadata": {},
   "outputs": [],
   "source": []
  }
 ],
 "metadata": {
  "kernelspec": {
   "display_name": "base",
   "language": "python",
   "name": "python3"
  },
  "language_info": {
   "codemirror_mode": {
    "name": "ipython",
    "version": 3
   },
   "file_extension": ".py",
   "mimetype": "text/x-python",
   "name": "python",
   "nbconvert_exporter": "python",
   "pygments_lexer": "ipython3",
   "version": "3.10.9"
  }
 },
 "nbformat": 4,
 "nbformat_minor": 2
}
